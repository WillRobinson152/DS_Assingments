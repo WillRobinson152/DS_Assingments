{
 "cells": [
  {
   "cell_type": "code",
   "execution_count": 1,
   "metadata": {},
   "outputs": [
    {
     "name": "stdout",
     "output_type": "stream",
     "text": [
      "(0, 'Tennis Court 1', 5, 25, 10000, 200)\n",
      "(1, 'Tennis Court 2', 5, 25, 8000, 200)\n",
      "(2, 'Badminton Court', 0, 15.5, 4000, 50)\n",
      "(3, 'Table Tennis', 0, 5, 320, 10)\n",
      "(4, 'Massage Room 1', 9.9, 80, 4000, 3000)\n",
      "(5, 'Massage Room 2', 9.9, 80, 4000, 3000)\n",
      "(6, 'Squash Court', 3.5, 17.5, 5000, 80)\n",
      "(7, 'Snooker Table', 0, 5, 450, 15)\n",
      "(8, 'Pool Table', 0, 5, 400, 15)\n"
     ]
    }
   ],
   "source": [
    "import sqlite3\n",
    "def run_query(query):\n",
    "    conn = sqlite3.connect(\"sqlite_db_pythonsqlite.db\")\n",
    "    cur = conn.cursor()\n",
    "    cur.execute(query)\n",
    "    rows = cur.fetchall()\n",
    "    for row in rows:\n",
    "        print(row)\n",
    "\n",
    "query = \"\"\"\n",
    "        SELECT *\n",
    "        FROM FACILITIES\n",
    "        \"\"\"\n",
    "run_query(query)"
   ]
  },
  {
   "cell_type": "code",
   "execution_count": 2,
   "metadata": {},
   "outputs": [
    {
     "name": "stdout",
     "output_type": "stream",
     "text": [
      "('Tennis Court 1',)\n",
      "('Tennis Court 2',)\n",
      "('Massage Room 1',)\n",
      "('Massage Room 2',)\n",
      "('Squash Court',)\n"
     ]
    }
   ],
   "source": [
    "# Q1: Some of the facilities charge a fee to members, but some do not.\n",
    "# Write a SQL query to produce a list of the names of the facilities that do.\n",
    "\n",
    "query = \"\"\"\n",
    "        SELECT name \n",
    "        FROM Facilities\n",
    "        WHERE membercost > 0;\n",
    "        \"\"\"\n",
    "run_query(query)"
   ]
  },
  {
   "cell_type": "code",
   "execution_count": 3,
   "metadata": {},
   "outputs": [
    {
     "name": "stdout",
     "output_type": "stream",
     "text": [
      "(4,)\n"
     ]
    }
   ],
   "source": [
    "# Q2: How many facilities do not charge a fee to members?\n",
    "\n",
    "query = \"\"\"\n",
    "        SELECT COUNT(*)\n",
    "        FROM Facilities\n",
    "        WHERE membercost = 0;\n",
    "        \"\"\"\n",
    "\n",
    "run_query(query)"
   ]
  },
  {
   "cell_type": "code",
   "execution_count": 4,
   "metadata": {},
   "outputs": [
    {
     "name": "stdout",
     "output_type": "stream",
     "text": [
      "(0, 'Tennis Court 1', 5, 200)\n",
      "(1, 'Tennis Court 2', 5, 200)\n",
      "(4, 'Massage Room 1', 9.9, 3000)\n",
      "(5, 'Massage Room 2', 9.9, 3000)\n",
      "(6, 'Squash Court', 3.5, 80)\n"
     ]
    }
   ],
   "source": [
    "# Q3: Write an SQL query to show a list of facilities that charge a fee to members,\n",
    "# where the fee is less than 20% of the facility's monthly maintenance cost.\n",
    "# Return the facid, facility name, member cost, and monthly maintenance of the\n",
    "# facilities in question.\n",
    "\n",
    "query = \"\"\"\n",
    "        SELECT facid, name, membercost, monthlymaintenance\n",
    "        FROM Facilities\n",
    "        WHERE membercost < (0.2 * monthlymaintenance)\n",
    "            AND membercost > 0\n",
    "        GROUP BY facid;\n",
    "        \"\"\"\n",
    "\n",
    "run_query(query)"
   ]
  },
  {
   "cell_type": "code",
   "execution_count": 5,
   "metadata": {},
   "outputs": [
    {
     "name": "stdout",
     "output_type": "stream",
     "text": [
      "(1, 'Tennis Court 2', 5, 25, 8000, 200)\n",
      "(5, 'Massage Room 2', 9.9, 80, 4000, 3000)\n"
     ]
    }
   ],
   "source": [
    "# Q4: Write an SQL query to retrieve the details of facilities with ID 1 and 5.\n",
    "# Try writing the query without using the OR operator.\n",
    "\n",
    "query = \"\"\"\n",
    "        SELECT *\n",
    "        FROM Facilities\n",
    "        WHERE facid IN (1,5);\n",
    "        \"\"\"\n",
    "\n",
    "run_query(query)"
   ]
  },
  {
   "cell_type": "code",
   "execution_count": 6,
   "metadata": {},
   "outputs": [
    {
     "name": "stdout",
     "output_type": "stream",
     "text": [
      "(0, 'Tennis Court 1', 'expensive')\n",
      "(1, 'Tennis Court 2', 'expensive')\n",
      "(2, 'Badminton Court', 'cheap')\n",
      "(3, 'Table Tennis', 'cheap')\n",
      "(4, 'Massage Room 1', 'expensive')\n",
      "(5, 'Massage Room 2', 'expensive')\n",
      "(6, 'Squash Court', 'cheap')\n",
      "(7, 'Snooker Table', 'cheap')\n",
      "(8, 'Pool Table', 'cheap')\n"
     ]
    }
   ],
   "source": [
    "# Q5: Produce a list of facilities, with each labelled as\n",
    "# 'cheap' or 'expensive', depending on if their monthly maintenance cost is\n",
    "# more than $100. Return the name and monthly maintenance of the facilities\n",
    "# in question.\n",
    "\n",
    "query = \"\"\"\n",
    "        SELECT  facid, \n",
    "                name,\n",
    "                CASE WHEN monthlymaintenance > 100 THEN 'expensive'\n",
    "                     ELSE 'cheap' END AS price_level\n",
    "        FROM Facilities;\n",
    "        \"\"\"\n",
    "\n",
    "run_query(query)"
   ]
  },
  {
   "cell_type": "code",
   "execution_count": 7,
   "metadata": {},
   "outputs": [
    {
     "name": "stdout",
     "output_type": "stream",
     "text": [
      "('Darren', 'Smith', '2012-09-26 18:08:45')\n"
     ]
    }
   ],
   "source": [
    "# Q6: You'd like to get the first and last name of the last member(s)\n",
    "# who signed up. Try not to use the LIMIT clause for your solution. */\n",
    "\n",
    "\n",
    "query = \"\"\"\n",
    "        SELECT firstname, surname, joindate\n",
    "        FROM Members\n",
    "        WHERE surname <> \"GUEST\"\n",
    "        ORDER BY joindate DESC\n",
    "        LIMIT 1;\n",
    "        \"\"\"\n",
    "\n",
    "run_query(query)"
   ]
  },
  {
   "cell_type": "code",
   "execution_count": 8,
   "metadata": {},
   "outputs": [
    {
     "name": "stdout",
     "output_type": "stream",
     "text": [
      "(12, 'Tennis Court 1', 'Anne Baker')\n",
      "(12, 'Tennis Court 2', 'Anne Baker')\n",
      "(6, 'Tennis Court 2', 'Burton Tracy')\n",
      "(6, 'Tennis Court 1', 'Burton Tracy')\n",
      "(10, 'Tennis Court 1', 'Charles Owen')\n",
      "(10, 'Tennis Court 2', 'Charles Owen')\n",
      "(1, 'Tennis Court 2', 'Darren Smith')\n",
      "(28, 'Tennis Court 1', 'David Farrell')\n",
      "(28, 'Tennis Court 2', 'David Farrell')\n",
      "(11, 'Tennis Court 2', 'David Jones')\n",
      "(11, 'Tennis Court 1', 'David Jones')\n",
      "(17, 'Tennis Court 1', 'David Pinker')\n",
      "(26, 'Tennis Court 1', 'Douglas Jones')\n",
      "(36, 'Tennis Court 1', 'Erica Crumpet')\n",
      "(15, 'Tennis Court 2', 'Florence Bader')\n",
      "(15, 'Tennis Court 1', 'Florence Bader')\n",
      "(5, 'Tennis Court 1', 'Gerald Butters')\n",
      "(5, 'Tennis Court 2', 'Gerald Butters')\n",
      "(27, 'Tennis Court 2', 'Henrietta Rumney')\n",
      "(14, 'Tennis Court 1', 'Jack Smith')\n",
      "(14, 'Tennis Court 2', 'Jack Smith')\n",
      "(4, 'Tennis Court 1', 'Janice Joplette')\n",
      "(4, 'Tennis Court 2', 'Janice Joplette')\n",
      "(13, 'Tennis Court 2', 'Jemima Farrell')\n",
      "(13, 'Tennis Court 1', 'Jemima Farrell')\n",
      "(22, 'Tennis Court 1', 'Joan Coplin')\n",
      "(35, 'Tennis Court 1', 'John Hunt')\n",
      "(35, 'Tennis Court 2', 'John Hunt')\n",
      "(20, 'Tennis Court 1', 'Matthew Genting')\n",
      "(30, 'Tennis Court 2', 'Millicent Purview')\n",
      "(7, 'Tennis Court 2', 'Nancy Dare')\n",
      "(7, 'Tennis Court 1', 'Nancy Dare')\n",
      "(9, 'Tennis Court 2', 'Ponder Stibbons')\n",
      "(9, 'Tennis Court 1', 'Ponder Stibbons')\n",
      "(24, 'Tennis Court 2', 'Ramnaresh Sarwin')\n",
      "(24, 'Tennis Court 1', 'Ramnaresh Sarwin')\n",
      "(8, 'Tennis Court 2', 'Tim Boothe')\n",
      "(8, 'Tennis Court 1', 'Tim Boothe')\n",
      "(3, 'Tennis Court 2', 'Tim Rownam')\n",
      "(3, 'Tennis Court 1', 'Tim Rownam')\n",
      "(16, 'Tennis Court 2', 'Timothy Baker')\n",
      "(16, 'Tennis Court 1', 'Timothy Baker')\n",
      "(2, 'Tennis Court 1', 'Tracy Smith')\n",
      "(2, 'Tennis Court 2', 'Tracy Smith')\n"
     ]
    }
   ],
   "source": [
    "# Q7: Produce a list of all members who have used a tennis court.\n",
    "# Include in your output the name of the court, and the name of the member\n",
    "# formatted as a single column. Ensure no duplicate data, and order by\n",
    "# the member name.\n",
    "\n",
    "query = \"\"\"\n",
    "        SELECT DISTINCT(memid), name, (firstname || ' ' || surname) AS member\n",
    "        FROM Bookings\n",
    "        LEFT JOIN Facilities\n",
    "        USING (facid)\n",
    "        LEFT JOIN Members\n",
    "        USING (memid)\n",
    "        WHERE facid IN (0,1)\n",
    "            AND surname <> \"GUEST\"\n",
    "        ORDER BY member;\n",
    "        \"\"\"\n",
    "\n",
    "run_query(query)"
   ]
  },
  {
   "cell_type": "code",
   "execution_count": 9,
   "metadata": {},
   "outputs": [
    {
     "name": "stdout",
     "output_type": "stream",
     "text": [
      "('Massage Room 2', 'GUEST GUEST', 320)\n",
      "('Massage Room 1', 'GUEST GUEST', 160)\n",
      "('Massage Room 1', 'GUEST GUEST', 160)\n",
      "('Massage Room 1', 'GUEST GUEST', 160)\n"
     ]
    }
   ],
   "source": [
    "# Q8: Produce a list of bookings on the day of 2012-09-14 which\n",
    "# will cost the member (or guest) more than $30. Remember that guests have\n",
    "# different costs to members (the listed costs are per half-hour 'slot'), and\n",
    "# the guest user's ID is always 0. Include in your output the name of the\n",
    "# facility, the name of the member formatted as a single column, and the cost.\n",
    "# Order by descending cost, and do not use any subqueries.\n",
    "\n",
    "query = \"\"\"\n",
    "        SELECT  name, \n",
    "                (firstname || ' ' || surname) AS member,\n",
    "                (CASE WHEN memid = 0 THEN (slots * guestcost)\n",
    "                    ELSE (slots * membercost) END) AS cost\n",
    "        FROM Bookings\n",
    "        LEFT JOIN Facilities\n",
    "        USING(facid)\n",
    "        LEFT JOIN Members\n",
    "        USING(memid)\n",
    "        WHERE starttime LIKE '2012-09-14%'\n",
    "            AND (CASE WHEN memid = 0 THEN guestcost\n",
    "                    ELSE membercost END) > 30\n",
    "        ORDER BY cost DESC;\n",
    "        \"\"\"\n",
    "\n",
    "run_query(query)"
   ]
  },
  {
   "cell_type": "code",
   "execution_count": 10,
   "metadata": {},
   "outputs": [
    {
     "name": "stdout",
     "output_type": "stream",
     "text": [
      "('Massage Room 1', 'GUEST GUEST', 80)\n",
      "('Massage Room 1', 'GUEST GUEST', 80)\n",
      "('Massage Room 1', 'GUEST GUEST', 80)\n",
      "('Massage Room 2', 'GUEST GUEST', 80)\n"
     ]
    }
   ],
   "source": [
    "# Q9: This time, produce the same result as in Q8, but using a subquery.\n",
    "\n",
    "query = \"\"\"\n",
    "        SELECT name, member, cost\n",
    "        FROM (SELECT name,\n",
    "                     (firstname || ' ' || surname) AS member,\n",
    "                     (CASE WHEN memid = 0 THEN guestcost\n",
    "                        ELSE membercost END) AS cost\n",
    "                FROM Bookings\n",
    "                LEFT JOIN Facilities\n",
    "                USING (facid)\n",
    "                LEFT JOIN Members\n",
    "                USING (memid)\n",
    "                WHERE starttime LIKE '2012-09-14%') AS sub\n",
    "        WHERE cost > 30 \n",
    "        ORDER BY cost DESC;\n",
    "        \"\"\"\n",
    "\n",
    "run_query(query)"
   ]
  },
  {
   "cell_type": "code",
   "execution_count": 11,
   "metadata": {},
   "outputs": [
    {
     "name": "stdout",
     "output_type": "stream",
     "text": [
      "('Table Tennis', 180)\n",
      "('Snooker Table', 240)\n",
      "('Pool Table', 270)\n"
     ]
    }
   ],
   "source": [
    "# Q10: Produce a list of facilities with a total revenue less than 1000.\n",
    "# The output of facility name and total revenue, sorted by revenue. Remember\n",
    "# that there's a different cost for guests and members! \n",
    "\n",
    "query = \"\"\"\n",
    "        SELECT name, total_rev\n",
    "        FROM (SELECT name, SUM(revenue) AS total_rev\n",
    "            FROM (SELECT  name,\n",
    "                    CASE WHEN memid = 0 THEN (slots * guestcost)\n",
    "                        ELSE (slots * membercost) END AS revenue\n",
    "                    FROM Bookings\n",
    "                    LEFT JOIN Facilities\n",
    "                    USING(facid)\n",
    "                    LEFT JOIN Members\n",
    "                    USING(memid)) AS sub1\n",
    "            GROUP BY name) AS sub2\n",
    "        WHERE total_rev < 1000\n",
    "        ORDER BY total_rev;\n",
    "        \"\"\"\n",
    "\n",
    "run_query(query)"
   ]
  },
  {
   "cell_type": "code",
   "execution_count": 12,
   "metadata": {},
   "outputs": [
    {
     "name": "stdout",
     "output_type": "stream",
     "text": [
      "('Ponder Stibbons', 'Florence', 'Bader')\n",
      "('Ponder Stibbons', 'Anne', 'Baker')\n",
      "('Jemima Farrell', 'Timothy', 'Baker')\n",
      "('Tim Rownam', 'Tim', 'Boothe')\n",
      "('Darren Smith', 'Gerald', 'Butters')\n",
      "('Timothy Baker', 'Joan', 'Coplin')\n",
      "('Tracy Smith', 'Erica', 'Crumpet')\n",
      "('Janice Joplette', 'Nancy', 'Dare')\n",
      "('Gerald Butters', 'Matthew', 'Genting')\n",
      "('Millicent Purview', 'John', 'Hunt')\n",
      "('Janice Joplette', 'David', 'Jones')\n",
      "('David Jones', 'Douglas', 'Jones')\n",
      "('Darren Smith', 'Janice', 'Joplette')\n",
      "('Darren Smith', 'Anna', 'Mackenzie')\n",
      "('Darren Smith', 'Charles', 'Owen')\n",
      "('Jemima Farrell', 'David', 'Pinker')\n",
      "('Tracy Smith', 'Millicent', 'Purview')\n",
      "('Matthew Genting', 'Henrietta', 'Rumney')\n",
      "('Florence Bader', 'Ramnaresh', 'Sarwin')\n",
      "('Darren Smith', 'Jack', 'Smith')\n",
      "('Burton Tracy', 'Ponder', 'Stibbons')\n",
      "('Tracy Smith', 'Henry', 'Worthington-Smyth')\n"
     ]
    }
   ],
   "source": [
    "# Q11: Produce a report of members and who recommended them in alphabetic surname,firstname order\n",
    "\n",
    "query = \"\"\"\n",
    "        SELECT (m.firstname || ' ' || m.surname) AS member, r.firstname AS recommender_first, r.surname AS recommender_last\n",
    "        FROM Members AS m\n",
    "        INNER JOIN Members as r\n",
    "        ON m.memid = r.recommendedby\n",
    "        ORDER BY recommender_last, recommender_first\n",
    "        \"\"\"\n",
    "\n",
    "run_query(query)\n"
   ]
  },
  {
   "cell_type": "code",
   "execution_count": 13,
   "metadata": {},
   "outputs": [
    {
     "name": "stdout",
     "output_type": "stream",
     "text": [
      "('Tennis Court 1', 957)\n",
      "('Tennis Court 2', 882)\n",
      "('Badminton Court', 1086)\n",
      "('Table Tennis', 794)\n",
      "('Massage Room 1', 884)\n",
      "('Massage Room 2', 54)\n",
      "('Squash Court', 418)\n",
      "('Snooker Table', 860)\n",
      "('Pool Table', 856)\n"
     ]
    }
   ],
   "source": [
    "# Q12: Find the facilities with their usage by member, but not guests \n",
    "\n",
    "query = \"\"\"\n",
    "        SELECT name, SUM(slots)\n",
    "        FROM Bookings\n",
    "        LEFT JOIN Facilities\n",
    "        USING (facid)\n",
    "        WHERE memid > 0\n",
    "        GROUP BY facid\n",
    "        \"\"\"\n",
    "\n",
    "run_query(query)"
   ]
  },
  {
   "cell_type": "code",
   "execution_count": 14,
   "metadata": {},
   "outputs": [
    {
     "name": "stdout",
     "output_type": "stream",
     "text": [
      "('Badminton Court', 165, '07')\n",
      "('Massage Room 1', 166, '07')\n",
      "('Massage Room 2', 8, '07')\n",
      "('Pool Table', 110, '07')\n",
      "('Snooker Table', 140, '07')\n",
      "('Squash Court', 50, '07')\n",
      "('Table Tennis', 98, '07')\n",
      "('Tennis Court 1', 201, '07')\n",
      "('Tennis Court 2', 123, '07')\n",
      "('Badminton Court', 414, '08')\n",
      "('Massage Room 1', 316, '08')\n",
      "('Massage Room 2', 18, '08')\n",
      "('Pool Table', 303, '08')\n",
      "('Snooker Table', 316, '08')\n",
      "('Squash Court', 184, '08')\n",
      "('Table Tennis', 296, '08')\n",
      "('Tennis Court 1', 339, '08')\n",
      "('Tennis Court 2', 345, '08')\n",
      "('Badminton Court', 507, '09')\n",
      "('Massage Room 1', 402, '09')\n",
      "('Massage Room 2', 28, '09')\n",
      "('Pool Table', 443, '09')\n",
      "('Snooker Table', 404, '09')\n",
      "('Squash Court', 184, '09')\n",
      "('Table Tennis', 400, '09')\n",
      "('Tennis Court 1', 417, '09')\n",
      "('Tennis Court 2', 414, '09')\n"
     ]
    }
   ],
   "source": [
    "# Q13: Find the facilities usage by month, but not guests \n",
    "\n",
    "query = \"\"\"\n",
    "        SELECT name, SUM(slots) AS uses, strftime('%m', starttime) AS month\n",
    "        FROM Bookings\n",
    "        LEFT JOIN Facilities\n",
    "        USING (facid)\n",
    "        WHERE memid > 0\n",
    "        GROUP BY month, facid\n",
    "        ORDER BY month, name\n",
    "        \"\"\"\n",
    "\n",
    "run_query(query)"
   ]
  },
  {
   "cell_type": "code",
   "execution_count": null,
   "metadata": {},
   "outputs": [],
   "source": []
  }
 ],
 "metadata": {
  "kernelspec": {
   "display_name": "Python 3",
   "language": "python",
   "name": "python3"
  },
  "language_info": {
   "codemirror_mode": {
    "name": "ipython",
    "version": 3
   },
   "file_extension": ".py",
   "mimetype": "text/x-python",
   "name": "python",
   "nbconvert_exporter": "python",
   "pygments_lexer": "ipython3",
   "version": "3.8.3"
  }
 },
 "nbformat": 4,
 "nbformat_minor": 4
}
