{
 "cells": [
  {
   "cell_type": "code",
   "execution_count": 1,
   "metadata": {},
   "outputs": [],
   "source": [
    "import pandas as pd"
   ]
  },
  {
   "cell_type": "code",
   "execution_count": 2,
   "metadata": {},
   "outputs": [
    {
     "name": "stderr",
     "output_type": "stream",
     "text": [
      "C:\\Users\\robin\\anaconda3\\lib\\site-packages\\IPython\\core\\interactiveshell.py:3071: DtypeWarning: Columns (6) have mixed types.Specify dtype option on import or set low_memory=False.\n",
      "  has_raised = await self.run_ast_nodes(code_ast.body, cell_name,\n"
     ]
    },
    {
     "name": "stdout",
     "output_type": "stream",
     "text": [
      "(251983, 38)\n"
     ]
    },
    {
     "data": {
      "text/html": [
       "<div>\n",
       "<style scoped>\n",
       "    .dataframe tbody tr th:only-of-type {\n",
       "        vertical-align: middle;\n",
       "    }\n",
       "\n",
       "    .dataframe tbody tr th {\n",
       "        vertical-align: top;\n",
       "    }\n",
       "\n",
       "    .dataframe thead th {\n",
       "        text-align: right;\n",
       "    }\n",
       "</style>\n",
       "<table border=\"1\" class=\"dataframe\">\n",
       "  <thead>\n",
       "    <tr style=\"text-align: right;\">\n",
       "      <th></th>\n",
       "      <th>RE</th>\n",
       "      <th>building</th>\n",
       "      <th>mail_1</th>\n",
       "      <th>mail_2</th>\n",
       "      <th>mail_city</th>\n",
       "      <th>mail_state</th>\n",
       "      <th>mail_zipcode</th>\n",
       "      <th>subdivision</th>\n",
       "      <th>neighborhood</th>\n",
       "      <th>perc_capped</th>\n",
       "      <th>...</th>\n",
       "      <th>bedrooms</th>\n",
       "      <th>baths</th>\n",
       "      <th>rooms</th>\n",
       "      <th>street_num</th>\n",
       "      <th>direction</th>\n",
       "      <th>street_name</th>\n",
       "      <th>street_type</th>\n",
       "      <th>unit</th>\n",
       "      <th>city</th>\n",
       "      <th>zipcode</th>\n",
       "    </tr>\n",
       "  </thead>\n",
       "  <tbody>\n",
       "    <tr>\n",
       "      <th>0</th>\n",
       "      <td>000006 0030</td>\n",
       "      <td>1</td>\n",
       "      <td>2503 SUMMERFIELD LN</td>\n",
       "      <td>NaN</td>\n",
       "      <td>JACKSONVILLE</td>\n",
       "      <td>FL</td>\n",
       "      <td>32234</td>\n",
       "      <td>SECTION LAND</td>\n",
       "      <td>417300.2</td>\n",
       "      <td>1.0</td>\n",
       "      <td>...</td>\n",
       "      <td>3.0</td>\n",
       "      <td>2.0</td>\n",
       "      <td>1.0</td>\n",
       "      <td>2503.0</td>\n",
       "      <td>NaN</td>\n",
       "      <td>SUMMERFIELD</td>\n",
       "      <td>LN</td>\n",
       "      <td>NaN</td>\n",
       "      <td>JACKSONVILLE</td>\n",
       "      <td>32234</td>\n",
       "    </tr>\n",
       "    <tr>\n",
       "      <th>1</th>\n",
       "      <td>000007 0010</td>\n",
       "      <td>1</td>\n",
       "      <td>PO BOX 23637</td>\n",
       "      <td>NaN</td>\n",
       "      <td>JACKSONVILLE</td>\n",
       "      <td>FL</td>\n",
       "      <td>32241</td>\n",
       "      <td>SECTION LAND</td>\n",
       "      <td>417300.2</td>\n",
       "      <td>0.0</td>\n",
       "      <td>...</td>\n",
       "      <td>3.0</td>\n",
       "      <td>1.0</td>\n",
       "      <td>1.0</td>\n",
       "      <td>2610.0</td>\n",
       "      <td>N</td>\n",
       "      <td>U S 301</td>\n",
       "      <td>HWY</td>\n",
       "      <td>NaN</td>\n",
       "      <td>JACKSONVILLE</td>\n",
       "      <td>32234</td>\n",
       "    </tr>\n",
       "    <tr>\n",
       "      <th>2</th>\n",
       "      <td>000009 0100</td>\n",
       "      <td>1</td>\n",
       "      <td>2495 U S 301 HWY N</td>\n",
       "      <td>NaN</td>\n",
       "      <td>BALDWIN</td>\n",
       "      <td>FL</td>\n",
       "      <td>32234</td>\n",
       "      <td>SECTION LAND</td>\n",
       "      <td>417300.2</td>\n",
       "      <td>1.0</td>\n",
       "      <td>...</td>\n",
       "      <td>4.0</td>\n",
       "      <td>2.0</td>\n",
       "      <td>1.0</td>\n",
       "      <td>2495.0</td>\n",
       "      <td>N</td>\n",
       "      <td>U S 301</td>\n",
       "      <td>HWY</td>\n",
       "      <td>NaN</td>\n",
       "      <td>JACKSONVILLE</td>\n",
       "      <td>32234</td>\n",
       "    </tr>\n",
       "    <tr>\n",
       "      <th>3</th>\n",
       "      <td>000011 0000</td>\n",
       "      <td>1</td>\n",
       "      <td>2425 US HWY 301 N</td>\n",
       "      <td>NaN</td>\n",
       "      <td>BALDWIN</td>\n",
       "      <td>FL</td>\n",
       "      <td>32234</td>\n",
       "      <td>SECTION LAND</td>\n",
       "      <td>417300.2</td>\n",
       "      <td>0.0</td>\n",
       "      <td>...</td>\n",
       "      <td>2.0</td>\n",
       "      <td>1.5</td>\n",
       "      <td>1.0</td>\n",
       "      <td>2435.0</td>\n",
       "      <td>N</td>\n",
       "      <td>U S 301</td>\n",
       "      <td>HWY</td>\n",
       "      <td>NaN</td>\n",
       "      <td>JACKSONVILLE</td>\n",
       "      <td>32234</td>\n",
       "    </tr>\n",
       "    <tr>\n",
       "      <th>4</th>\n",
       "      <td>000012 0010</td>\n",
       "      <td>1</td>\n",
       "      <td>2204 US HIGHWAY 301 N</td>\n",
       "      <td>NaN</td>\n",
       "      <td>JACKSONVILLE</td>\n",
       "      <td>FL</td>\n",
       "      <td>32234</td>\n",
       "      <td>SECTION LAND</td>\n",
       "      <td>417300.2</td>\n",
       "      <td>1.0</td>\n",
       "      <td>...</td>\n",
       "      <td>3.0</td>\n",
       "      <td>2.0</td>\n",
       "      <td>1.0</td>\n",
       "      <td>2204.0</td>\n",
       "      <td>N</td>\n",
       "      <td>U S 301</td>\n",
       "      <td>HWY</td>\n",
       "      <td>NaN</td>\n",
       "      <td>JACKSONVILLE</td>\n",
       "      <td>32234</td>\n",
       "    </tr>\n",
       "  </tbody>\n",
       "</table>\n",
       "<p>5 rows × 38 columns</p>\n",
       "</div>"
      ],
      "text/plain": [
       "            RE  building                 mail_1 mail_2     mail_city  \\\n",
       "0  000006 0030         1    2503 SUMMERFIELD LN    NaN  JACKSONVILLE   \n",
       "1  000007 0010         1           PO BOX 23637    NaN  JACKSONVILLE   \n",
       "2  000009 0100         1     2495 U S 301 HWY N    NaN       BALDWIN   \n",
       "3  000011 0000         1      2425 US HWY 301 N    NaN       BALDWIN   \n",
       "4  000012 0010         1  2204 US HIGHWAY 301 N    NaN  JACKSONVILLE   \n",
       "\n",
       "  mail_state mail_zipcode   subdivision  neighborhood  perc_capped  ...  \\\n",
       "0         FL        32234  SECTION LAND      417300.2          1.0  ...   \n",
       "1         FL        32241  SECTION LAND      417300.2          0.0  ...   \n",
       "2         FL        32234  SECTION LAND      417300.2          1.0  ...   \n",
       "3         FL        32234  SECTION LAND      417300.2          0.0  ...   \n",
       "4         FL        32234  SECTION LAND      417300.2          1.0  ...   \n",
       "\n",
       "   bedrooms  baths  rooms  street_num  direction  street_name street_type  \\\n",
       "0       3.0    2.0    1.0      2503.0        NaN  SUMMERFIELD          LN   \n",
       "1       3.0    1.0    1.0      2610.0          N      U S 301         HWY   \n",
       "2       4.0    2.0    1.0      2495.0          N      U S 301         HWY   \n",
       "3       2.0    1.5    1.0      2435.0          N      U S 301         HWY   \n",
       "4       3.0    2.0    1.0      2204.0          N      U S 301         HWY   \n",
       "\n",
       "   unit          city  zipcode  \n",
       "0   NaN  JACKSONVILLE    32234  \n",
       "1   NaN  JACKSONVILLE    32234  \n",
       "2   NaN  JACKSONVILLE    32234  \n",
       "3   NaN  JACKSONVILLE    32234  \n",
       "4   NaN  JACKSONVILLE    32234  \n",
       "\n",
       "[5 rows x 38 columns]"
      ]
     },
     "execution_count": 2,
     "metadata": {},
     "output_type": "execute_result"
    }
   ],
   "source": [
    "df = pd.read_csv('HousingInventory.csv')\n",
    "print(df.shape)\n",
    "df.head()"
   ]
  },
  {
   "cell_type": "code",
   "execution_count": 3,
   "metadata": {},
   "outputs": [
    {
     "name": "stdout",
     "output_type": "stream",
     "text": [
      "(251983, 112)\n"
     ]
    },
    {
     "data": {
      "text/html": [
       "<div>\n",
       "<style scoped>\n",
       "    .dataframe tbody tr th:only-of-type {\n",
       "        vertical-align: middle;\n",
       "    }\n",
       "\n",
       "    .dataframe tbody tr th {\n",
       "        vertical-align: top;\n",
       "    }\n",
       "\n",
       "    .dataframe thead th {\n",
       "        text-align: right;\n",
       "    }\n",
       "</style>\n",
       "<table border=\"1\" class=\"dataframe\">\n",
       "  <thead>\n",
       "    <tr style=\"text-align: right;\">\n",
       "      <th></th>\n",
       "      <th>RE</th>\n",
       "      <th>building</th>\n",
       "      <th>char_103RD/TIMIQUANA</th>\n",
       "      <th>char_3RD ST. BEACHES</th>\n",
       "      <th>char_ARLINGTON RD</th>\n",
       "      <th>char_ARLINGTON RIVER</th>\n",
       "      <th>char_ATL BV HART BR TO OCEAN</th>\n",
       "      <th>char_ATLANTIC BVD TO HART BR</th>\n",
       "      <th>char_BAYMEADOWS WEST</th>\n",
       "      <th>char_BEACH BVD</th>\n",
       "      <th>...</th>\n",
       "      <th>char_ST. JOHNS BLUFF RD</th>\n",
       "      <th>char_STRAWBERRY CREEK</th>\n",
       "      <th>char_SUNBEAM ROAD</th>\n",
       "      <th>char_TALLEYRAND AV</th>\n",
       "      <th>char_TROUT CREEK</th>\n",
       "      <th>char_TROUT RIVER</th>\n",
       "      <th>char_U.S. 1</th>\n",
       "      <th>char_UNIVERSITY BVD NORTH</th>\n",
       "      <th>char_UNIVERSITY BVD SOUTH</th>\n",
       "      <th>char_US90/BEAVER</th>\n",
       "    </tr>\n",
       "  </thead>\n",
       "  <tbody>\n",
       "    <tr>\n",
       "      <th>0</th>\n",
       "      <td>000006 0030</td>\n",
       "      <td>1</td>\n",
       "      <td>0</td>\n",
       "      <td>0</td>\n",
       "      <td>0</td>\n",
       "      <td>0</td>\n",
       "      <td>0</td>\n",
       "      <td>0</td>\n",
       "      <td>0</td>\n",
       "      <td>0</td>\n",
       "      <td>...</td>\n",
       "      <td>0</td>\n",
       "      <td>0</td>\n",
       "      <td>0</td>\n",
       "      <td>0</td>\n",
       "      <td>0</td>\n",
       "      <td>0</td>\n",
       "      <td>0</td>\n",
       "      <td>0</td>\n",
       "      <td>0</td>\n",
       "      <td>0</td>\n",
       "    </tr>\n",
       "    <tr>\n",
       "      <th>1</th>\n",
       "      <td>000007 0010</td>\n",
       "      <td>1</td>\n",
       "      <td>0</td>\n",
       "      <td>0</td>\n",
       "      <td>0</td>\n",
       "      <td>0</td>\n",
       "      <td>0</td>\n",
       "      <td>0</td>\n",
       "      <td>0</td>\n",
       "      <td>0</td>\n",
       "      <td>...</td>\n",
       "      <td>0</td>\n",
       "      <td>0</td>\n",
       "      <td>0</td>\n",
       "      <td>0</td>\n",
       "      <td>0</td>\n",
       "      <td>0</td>\n",
       "      <td>0</td>\n",
       "      <td>0</td>\n",
       "      <td>0</td>\n",
       "      <td>0</td>\n",
       "    </tr>\n",
       "    <tr>\n",
       "      <th>2</th>\n",
       "      <td>000009 0100</td>\n",
       "      <td>1</td>\n",
       "      <td>0</td>\n",
       "      <td>0</td>\n",
       "      <td>0</td>\n",
       "      <td>0</td>\n",
       "      <td>0</td>\n",
       "      <td>0</td>\n",
       "      <td>0</td>\n",
       "      <td>0</td>\n",
       "      <td>...</td>\n",
       "      <td>0</td>\n",
       "      <td>0</td>\n",
       "      <td>0</td>\n",
       "      <td>0</td>\n",
       "      <td>0</td>\n",
       "      <td>0</td>\n",
       "      <td>0</td>\n",
       "      <td>0</td>\n",
       "      <td>0</td>\n",
       "      <td>0</td>\n",
       "    </tr>\n",
       "    <tr>\n",
       "      <th>3</th>\n",
       "      <td>000011 0000</td>\n",
       "      <td>1</td>\n",
       "      <td>0</td>\n",
       "      <td>0</td>\n",
       "      <td>0</td>\n",
       "      <td>0</td>\n",
       "      <td>0</td>\n",
       "      <td>0</td>\n",
       "      <td>0</td>\n",
       "      <td>0</td>\n",
       "      <td>...</td>\n",
       "      <td>0</td>\n",
       "      <td>0</td>\n",
       "      <td>0</td>\n",
       "      <td>0</td>\n",
       "      <td>0</td>\n",
       "      <td>0</td>\n",
       "      <td>0</td>\n",
       "      <td>0</td>\n",
       "      <td>0</td>\n",
       "      <td>0</td>\n",
       "    </tr>\n",
       "    <tr>\n",
       "      <th>4</th>\n",
       "      <td>000012 0010</td>\n",
       "      <td>1</td>\n",
       "      <td>0</td>\n",
       "      <td>0</td>\n",
       "      <td>0</td>\n",
       "      <td>0</td>\n",
       "      <td>0</td>\n",
       "      <td>0</td>\n",
       "      <td>0</td>\n",
       "      <td>0</td>\n",
       "      <td>...</td>\n",
       "      <td>0</td>\n",
       "      <td>0</td>\n",
       "      <td>0</td>\n",
       "      <td>0</td>\n",
       "      <td>0</td>\n",
       "      <td>0</td>\n",
       "      <td>0</td>\n",
       "      <td>0</td>\n",
       "      <td>0</td>\n",
       "      <td>0</td>\n",
       "    </tr>\n",
       "  </tbody>\n",
       "</table>\n",
       "<p>5 rows × 112 columns</p>\n",
       "</div>"
      ],
      "text/plain": [
       "            RE  building  char_103RD/TIMIQUANA  char_3RD ST. BEACHES  \\\n",
       "0  000006 0030         1                     0                     0   \n",
       "1  000007 0010         1                     0                     0   \n",
       "2  000009 0100         1                     0                     0   \n",
       "3  000011 0000         1                     0                     0   \n",
       "4  000012 0010         1                     0                     0   \n",
       "\n",
       "   char_ARLINGTON RD  char_ARLINGTON RIVER  char_ATL BV HART BR TO OCEAN  \\\n",
       "0                  0                     0                             0   \n",
       "1                  0                     0                             0   \n",
       "2                  0                     0                             0   \n",
       "3                  0                     0                             0   \n",
       "4                  0                     0                             0   \n",
       "\n",
       "   char_ATLANTIC BVD TO HART BR  char_BAYMEADOWS WEST  char_BEACH BVD  ...  \\\n",
       "0                             0                     0               0  ...   \n",
       "1                             0                     0               0  ...   \n",
       "2                             0                     0               0  ...   \n",
       "3                             0                     0               0  ...   \n",
       "4                             0                     0               0  ...   \n",
       "\n",
       "   char_ST. JOHNS BLUFF RD  char_STRAWBERRY CREEK  char_SUNBEAM ROAD  \\\n",
       "0                        0                      0                  0   \n",
       "1                        0                      0                  0   \n",
       "2                        0                      0                  0   \n",
       "3                        0                      0                  0   \n",
       "4                        0                      0                  0   \n",
       "\n",
       "   char_TALLEYRAND AV  char_TROUT CREEK  char_TROUT RIVER  char_U.S. 1  \\\n",
       "0                   0                 0                 0            0   \n",
       "1                   0                 0                 0            0   \n",
       "2                   0                 0                 0            0   \n",
       "3                   0                 0                 0            0   \n",
       "4                   0                 0                 0            0   \n",
       "\n",
       "   char_UNIVERSITY BVD NORTH  char_UNIVERSITY BVD SOUTH  char_US90/BEAVER  \n",
       "0                          0                          0                 0  \n",
       "1                          0                          0                 0  \n",
       "2                          0                          0                 0  \n",
       "3                          0                          0                 0  \n",
       "4                          0                          0                 0  \n",
       "\n",
       "[5 rows x 112 columns]"
      ]
     },
     "execution_count": 3,
     "metadata": {},
     "output_type": "execute_result"
    }
   ],
   "source": [
    "dummies = df[['RE','building','char_descr']]\n",
    "dummies = pd.get_dummies(data=dummies, columns=['char_descr'], prefix='char')\n",
    "print(dummies.shape)\n",
    "dummies.head()"
   ]
  },
  {
   "cell_type": "code",
   "execution_count": 4,
   "metadata": {},
   "outputs": [
    {
     "name": "stdout",
     "output_type": "stream",
     "text": [
      "(250906, 110)\n"
     ]
    }
   ],
   "source": [
    "dummies = dummies.groupby(by=['RE', 'building']).sum()\n",
    "dummies = dummies.reindex()\n",
    "print(dummies.shape)"
   ]
  },
  {
   "cell_type": "code",
   "execution_count": 5,
   "metadata": {},
   "outputs": [
    {
     "data": {
      "text/plain": [
       "(250906, 37)"
      ]
     },
     "execution_count": 5,
     "metadata": {},
     "output_type": "execute_result"
    }
   ],
   "source": [
    "df = df.drop(columns=['char_descr'])\n",
    "RE_b = []\n",
    "for i in range(len(df['RE'])):\n",
    "    RE_b.append(df['RE'][i]+str(df['building'][i]))\n",
    "df['RE_b'] = RE_b\n",
    "df.drop_duplicates(subset='RE_b', inplace=True)\n",
    "df = df.drop(columns='RE_b')\n",
    "df = df.reindex()\n",
    "df.shape"
   ]
  },
  {
   "cell_type": "code",
   "execution_count": 6,
   "metadata": {},
   "outputs": [
    {
     "data": {
      "text/plain": [
       "(250906, 147)"
      ]
     },
     "execution_count": 6,
     "metadata": {},
     "output_type": "execute_result"
    }
   ],
   "source": [
    "df = pd.merge(df, dummies, how=\"left\", on=['RE', 'building'])\n",
    "df.shape"
   ]
  },
  {
   "cell_type": "code",
   "execution_count": 7,
   "metadata": {},
   "outputs": [
    {
     "name": "stdout",
     "output_type": "stream",
     "text": [
      "(250906, 76)\n"
     ]
    }
   ],
   "source": [
    "df2 = pd.read_csv('HousingFeatures.csv')\n",
    "dummies = df2[['RE','building','ft_descr']]\n",
    "dummies = pd.get_dummies(data=dummies, columns=['ft_descr'], prefix='ft')\n",
    "dummies = dummies.groupby(by=['RE', 'building']).sum()\n",
    "dummies = dummies.reindex()\n",
    "print(dummies.shape)"
   ]
  },
  {
   "cell_type": "code",
   "execution_count": 8,
   "metadata": {},
   "outputs": [
    {
     "name": "stdout",
     "output_type": "stream",
     "text": [
      "(390173, 8)\n",
      "(250906, 8)\n"
     ]
    }
   ],
   "source": [
    "df2 = df2.drop(columns=['ft_descr'])\n",
    "print(df2.shape)\n",
    "df2.drop_duplicates(inplace=True)\n",
    "df2 = df2.reindex()\n",
    "print(df2.shape)"
   ]
  },
  {
   "cell_type": "code",
   "execution_count": 9,
   "metadata": {},
   "outputs": [
    {
     "name": "stdout",
     "output_type": "stream",
     "text": [
      "(250906, 84)\n"
     ]
    }
   ],
   "source": [
    "df2 = pd.merge(df2, dummies, how=\"left\", on=['RE', 'building'])\n",
    "print(df2.shape)"
   ]
  },
  {
   "cell_type": "code",
   "execution_count": 10,
   "metadata": {},
   "outputs": [
    {
     "data": {
      "text/plain": [
       "(250906, 229)"
      ]
     },
     "execution_count": 10,
     "metadata": {},
     "output_type": "execute_result"
    }
   ],
   "source": [
    "df = pd.merge(df, df2, how='left', on=['RE', 'building'])\n",
    "df.shape"
   ]
  },
  {
   "cell_type": "code",
   "execution_count": 11,
   "metadata": {},
   "outputs": [
    {
     "name": "stdout",
     "output_type": "stream",
     "text": [
      "(249346, 40)\n",
      "(798147, 7)\n",
      "(249346, 7)\n",
      "(249346, 47)\n"
     ]
    }
   ],
   "source": [
    "df3 = pd.read_csv('HousingSubfeatures.csv')\n",
    "dummies = df3[['RE','building','substructure_descr']]\n",
    "dummies = pd.get_dummies(data=dummies, columns=['substructure_descr'], prefix='sub')\n",
    "dummies = dummies.groupby(by=['RE', 'building']).sum()\n",
    "dummies = dummies.reindex()\n",
    "print(dummies.shape)\n",
    "df3 = df3.drop(columns=['substructure_descr'])\n",
    "print(df3.shape)\n",
    "df3.drop_duplicates(inplace=True)\n",
    "df3 = df3.reindex()\n",
    "print(df3.shape)\n",
    "df3 = pd.merge(df3, dummies, how=\"left\", on=['RE', 'building'])\n",
    "print(df3.shape)"
   ]
  },
  {
   "cell_type": "code",
   "execution_count": 12,
   "metadata": {},
   "outputs": [
    {
     "data": {
      "text/plain": [
       "(250906, 274)"
      ]
     },
     "execution_count": 12,
     "metadata": {},
     "output_type": "execute_result"
    }
   ],
   "source": [
    "df = pd.merge(df, df3, how='left', on=['RE', 'building'])\n",
    "df.shape"
   ]
  },
  {
   "cell_type": "code",
   "execution_count": 13,
   "metadata": {},
   "outputs": [
    {
     "name": "stdout",
     "output_type": "stream",
     "text": [
      "(250906, 65)\n",
      "(256398, 5)\n",
      "(250906, 5)\n",
      "(250906, 70)\n"
     ]
    }
   ],
   "source": [
    "df4 = pd.read_csv('HousingLand.csv')\n",
    "dummies = df4[['RE','building','use_descr']]\n",
    "dummies = pd.get_dummies(data=dummies, columns=['use_descr'], prefix='land')\n",
    "dummies = dummies.groupby(by=['RE', 'building']).sum()\n",
    "dummies = dummies.reindex()\n",
    "print(dummies.shape)\n",
    "df4 = df4.drop(columns=['use_descr'])\n",
    "print(df4.shape)\n",
    "df4.drop_duplicates(inplace=True)\n",
    "df4 = df4.reindex()\n",
    "print(df4.shape)\n",
    "df4 = pd.merge(df4, dummies, how=\"left\", on=['RE', 'building'])\n",
    "print(df4.shape)"
   ]
  },
  {
   "cell_type": "code",
   "execution_count": 14,
   "metadata": {},
   "outputs": [
    {
     "data": {
      "text/plain": [
       "(250906, 342)"
      ]
     },
     "execution_count": 14,
     "metadata": {},
     "output_type": "execute_result"
    }
   ],
   "source": [
    "df = pd.merge(df, df4, how='left', on=['RE', 'building'])\n",
    "df.shape"
   ]
  },
  {
   "cell_type": "code",
   "execution_count": 15,
   "metadata": {},
   "outputs": [
    {
     "data": {
      "text/plain": [
       "(268991, 7)"
      ]
     },
     "execution_count": 15,
     "metadata": {},
     "output_type": "execute_result"
    }
   ],
   "source": [
    "df5 = pd.read_csv('QualifiedImprovedTotals.csv')\n",
    "df5.shape"
   ]
  },
  {
   "cell_type": "code",
   "execution_count": 16,
   "metadata": {},
   "outputs": [
    {
     "data": {
      "text/plain": [
       "(250906, 348)"
      ]
     },
     "execution_count": 16,
     "metadata": {},
     "output_type": "execute_result"
    }
   ],
   "source": [
    "df = pd.merge(df, df5, how='left', on=['RE'])\n",
    "df.shape"
   ]
  },
  {
   "cell_type": "code",
   "execution_count": 17,
   "metadata": {},
   "outputs": [
    {
     "data": {
      "text/plain": [
       "(443983, 3)"
      ]
     },
     "execution_count": 17,
     "metadata": {},
     "output_type": "execute_result"
    }
   ],
   "source": [
    "all_sales = pd.read_csv('QualifiedImprovedAll.csv')\n",
    "parcels = df[['RE']]\n",
    "home_sales = pd.merge(parcels, all_sales, how='inner', on=['RE'])\n",
    "home_sales.shape"
   ]
  },
  {
   "cell_type": "code",
   "execution_count": 18,
   "metadata": {},
   "outputs": [
    {
     "data": {
      "text/html": [
       "<div>\n",
       "<style scoped>\n",
       "    .dataframe tbody tr th:only-of-type {\n",
       "        vertical-align: middle;\n",
       "    }\n",
       "\n",
       "    .dataframe tbody tr th {\n",
       "        vertical-align: top;\n",
       "    }\n",
       "\n",
       "    .dataframe thead th {\n",
       "        text-align: right;\n",
       "    }\n",
       "</style>\n",
       "<table border=\"1\" class=\"dataframe\">\n",
       "  <thead>\n",
       "    <tr style=\"text-align: right;\">\n",
       "      <th></th>\n",
       "      <th>RE</th>\n",
       "      <th>sale_date</th>\n",
       "      <th>price</th>\n",
       "    </tr>\n",
       "  </thead>\n",
       "  <tbody>\n",
       "    <tr>\n",
       "      <th>0</th>\n",
       "      <td>000006 0030</td>\n",
       "      <td>2004-07-09</td>\n",
       "      <td>192000.0</td>\n",
       "    </tr>\n",
       "    <tr>\n",
       "      <th>1</th>\n",
       "      <td>000007 0010</td>\n",
       "      <td>1983-03-11</td>\n",
       "      <td>18000.0</td>\n",
       "    </tr>\n",
       "    <tr>\n",
       "      <th>2</th>\n",
       "      <td>000007 0010</td>\n",
       "      <td>2018-01-04</td>\n",
       "      <td>150000.0</td>\n",
       "    </tr>\n",
       "    <tr>\n",
       "      <th>3</th>\n",
       "      <td>000014 0060</td>\n",
       "      <td>1999-08-23</td>\n",
       "      <td>106500.0</td>\n",
       "    </tr>\n",
       "    <tr>\n",
       "      <th>4</th>\n",
       "      <td>000015 0010</td>\n",
       "      <td>1978-05-30</td>\n",
       "      <td>43400.0</td>\n",
       "    </tr>\n",
       "  </tbody>\n",
       "</table>\n",
       "</div>"
      ],
      "text/plain": [
       "            RE   sale_date     price\n",
       "0  000006 0030  2004-07-09  192000.0\n",
       "1  000007 0010  1983-03-11   18000.0\n",
       "2  000007 0010  2018-01-04  150000.0\n",
       "3  000014 0060  1999-08-23  106500.0\n",
       "4  000015 0010  1978-05-30   43400.0"
      ]
     },
     "execution_count": 18,
     "metadata": {},
     "output_type": "execute_result"
    }
   ],
   "source": [
    "home_sales.head()"
   ]
  },
  {
   "cell_type": "code",
   "execution_count": 19,
   "metadata": {},
   "outputs": [],
   "source": [
    "df.to_csv('HousingData.csv')\n",
    "home_sales.to_csv('HomeSales.csv')"
   ]
  },
  {
   "cell_type": "code",
   "execution_count": null,
   "metadata": {},
   "outputs": [],
   "source": []
  }
 ],
 "metadata": {
  "kernelspec": {
   "display_name": "Python 3",
   "language": "python",
   "name": "python3"
  },
  "language_info": {
   "codemirror_mode": {
    "name": "ipython",
    "version": 3
   },
   "file_extension": ".py",
   "mimetype": "text/x-python",
   "name": "python",
   "nbconvert_exporter": "python",
   "pygments_lexer": "ipython3",
   "version": "3.8.3"
  }
 },
 "nbformat": 4,
 "nbformat_minor": 4
}
