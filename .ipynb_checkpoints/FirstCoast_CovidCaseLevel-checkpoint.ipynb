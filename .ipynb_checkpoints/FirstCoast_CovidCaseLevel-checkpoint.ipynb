{
 "cells": [
  {
   "cell_type": "code",
   "execution_count": 1,
   "metadata": {},
   "outputs": [],
   "source": [
    "import requests\n",
    "import pandas as pd\n",
    "import matplotlib.pyplot as plt"
   ]
  },
  {
   "cell_type": "code",
   "execution_count": 1,
   "metadata": {},
   "outputs": [
    {
     "ename": "NameError",
     "evalue": "name 'requests' is not defined",
     "output_type": "error",
     "traceback": [
      "\u001b[1;31m---------------------------------------------------------------------------\u001b[0m",
      "\u001b[1;31mNameError\u001b[0m                                 Traceback (most recent call last)",
      "\u001b[1;32m<ipython-input-1-f10348f77022>\u001b[0m in \u001b[0;36m<module>\u001b[1;34m\u001b[0m\n\u001b[0;32m     12\u001b[0m         \u001b[0mCasesAll\u001b[0m\u001b[1;33m,\u001b[0m\u001b[0mC_Men\u001b[0m\u001b[1;33m,\u001b[0m\u001b[0mC_Women\u001b[0m\u001b[1;33m,\u001b[0m\u001b[0mC_FLRes\u001b[0m\u001b[1;33m,\u001b[0m\u001b[0mC_NotFLRes\u001b[0m\u001b[1;33m,\u001b[0m\u001b[0mC_FLResOut\u001b[0m\u001b[1;33m,\u001b[0m\u001b[0mT_NegRes\u001b[0m\u001b[1;33m,\u001b[0m\u001b[0mT_NegNotFLRes\u001b[0m\u001b[1;33m,\u001b[0m\u001b[0mT_total\u001b[0m\u001b[1;33m,\u001b[0m\u001b[0mT_negative\u001b[0m\u001b[1;33m,\u001b[0m\u001b[0mT_positive\u001b[0m\u001b[1;33m,\u001b[0m\u001b[0mDeaths\u001b[0m\u001b[1;33m,\u001b[0m\u001b[1;33m\u001b[0m\u001b[1;33m\u001b[0m\u001b[0m\n\u001b[0;32m     13\u001b[0m         EverMon,MonNow,GlobalID,NewPos,NewNeg,NewTested,NewPercPos,MedianAge&outSR=4326&f=json\"\"\"\n\u001b[1;32m---> 14\u001b[1;33m \u001b[0mresponse\u001b[0m \u001b[1;33m=\u001b[0m \u001b[0mrequests\u001b[0m\u001b[1;33m.\u001b[0m\u001b[0mget\u001b[0m\u001b[1;33m(\u001b[0m\u001b[0murl\u001b[0m\u001b[1;33m)\u001b[0m\u001b[1;33m\u001b[0m\u001b[1;33m\u001b[0m\u001b[0m\n\u001b[0m\u001b[0;32m     15\u001b[0m \u001b[0mdata\u001b[0m \u001b[1;33m=\u001b[0m \u001b[0mresponse\u001b[0m\u001b[1;33m.\u001b[0m\u001b[0mjson\u001b[0m\u001b[1;33m(\u001b[0m\u001b[1;33m)\u001b[0m\u001b[1;33m\u001b[0m\u001b[1;33m\u001b[0m\u001b[0m\n\u001b[0;32m     16\u001b[0m \u001b[0mdf\u001b[0m \u001b[1;33m=\u001b[0m \u001b[0mpd\u001b[0m\u001b[1;33m.\u001b[0m\u001b[0mjson_normalize\u001b[0m\u001b[1;33m(\u001b[0m\u001b[0mdata\u001b[0m\u001b[1;33m,\u001b[0m \u001b[1;34m'features'\u001b[0m\u001b[1;33m)\u001b[0m\u001b[1;33m\u001b[0m\u001b[1;33m\u001b[0m\u001b[0m\n",
      "\u001b[1;31mNameError\u001b[0m: name 'requests' is not defined"
     ]
    }
   ],
   "source": [
    "#filtered to get Baker, Clay, Duval, Nassau and St. Johns counties\n",
    "url = 'https://services1.arcgis.com/CY1LXxl9zlJeBuRZ/arcgis/rest/services/Florida_COVID19_Case_Line_Data_NEW/FeatureServer/0/query?where=%20(County%20%3D%20%27DUVAL%27%20OR%20County%20%3D%20%27ST.%20JOHNS%27%20OR%20County%20%3D%20%27CLAY%27%20OR%20County%20%3D%20%27NASSAU%27%20OR%20County%20%3D%20%27BAKER%27)%20&outFields=*&outSR=4326&f=json'\n",
    "response = requests.get(url)\n",
    "data = response.json()\n",
    "df = pd.json_normalize(data, 'features')\n",
    "df.head()"
   ]
  },
  {
   "cell_type": "code",
   "execution_count": 3,
   "metadata": {},
   "outputs": [
    {
     "name": "stdout",
     "output_type": "stream",
     "text": [
      "Got batch # 1\n",
      "Got batch # 2\n",
      "Got batch # 3\n",
      "Got batch # 4\n",
      "Got batch # 5\n",
      "Got batch # 6\n",
      "Got batch # 7\n",
      "Got batch # 8\n",
      "Got batch # 9\n",
      "Got batch # 10\n",
      "Got batch # 11\n",
      "Got batch # 12\n",
      "Got batch # 13\n",
      "Got batch # 14\n",
      "Got batch # 15\n",
      "Got batch # 16\n",
      "Got batch # 17\n",
      "Got batch # 18\n",
      "Got batch # 19\n"
     ]
    }
   ],
   "source": [
    "#get all data in batches of 2,000 - the limit defined by API\n",
    "offset_list = range(2000,40000,2000)\n",
    "counter = 0\n",
    "for offset in offset_list:\n",
    "    url_iterate = f'https://services1.arcgis.com/CY1LXxl9zlJeBuRZ/arcgis/rest/services/Florida_COVID19_Case_Line_Data_NEW/FeatureServer/0/query?where=%20(County%20%3D%20%27DUVAL%27%20OR%20County%20%3D%20%27ST.%20JOHNS%27%20OR%20County%20%3D%20%27CLAY%27%20OR%20County%20%3D%20%27NASSAU%27%20OR%20County%20%3D%20%27BAKER%27)%20&outFields=*&outSR=4326&resultOffset={offset}&f=json'\n",
    "    response = requests.get(url_iterate)\n",
    "    data = response.json()\n",
    "    second = pd.json_normalize(data['features'])\n",
    "    df = df.append(second, ignore_index=True)\n",
    "    counter += 1\n",
    "    print(f'Got batch # {counter}')\n",
    "\n",
    "column_names = []\n",
    "for column in df.columns:\n",
    "    column_names.append(column[11:])\n",
    "df.columns = column_names"
   ]
  },
  {
   "cell_type": "code",
   "execution_count": 4,
   "metadata": {},
   "outputs": [
    {
     "data": {
      "text/plain": [
       "(36303, 16)"
      ]
     },
     "execution_count": 4,
     "metadata": {},
     "output_type": "execute_result"
    }
   ],
   "source": [
    "df.shape"
   ]
  },
  {
   "cell_type": "code",
   "execution_count": 5,
   "metadata": {},
   "outputs": [
    {
     "data": {
      "text/html": [
       "<div>\n",
       "<style scoped>\n",
       "    .dataframe tbody tr th:only-of-type {\n",
       "        vertical-align: middle;\n",
       "    }\n",
       "\n",
       "    .dataframe tbody tr th {\n",
       "        vertical-align: top;\n",
       "    }\n",
       "\n",
       "    .dataframe thead th {\n",
       "        text-align: right;\n",
       "    }\n",
       "</style>\n",
       "<table border=\"1\" class=\"dataframe\">\n",
       "  <thead>\n",
       "    <tr style=\"text-align: right;\">\n",
       "      <th></th>\n",
       "      <th>County</th>\n",
       "      <th>Age</th>\n",
       "      <th>Age_group</th>\n",
       "      <th>Gender</th>\n",
       "      <th>Jurisdiction</th>\n",
       "      <th>Travel_related</th>\n",
       "      <th>Origin</th>\n",
       "      <th>EDvisit</th>\n",
       "      <th>Hospitalized</th>\n",
       "      <th>Died</th>\n",
       "      <th>Case_</th>\n",
       "      <th>Contact</th>\n",
       "      <th>Case1</th>\n",
       "      <th>EventDate</th>\n",
       "      <th>ChartDate</th>\n",
       "      <th>ObjectId</th>\n",
       "    </tr>\n",
       "  </thead>\n",
       "  <tbody>\n",
       "    <tr>\n",
       "      <th>36298</th>\n",
       "      <td>Duval</td>\n",
       "      <td>66</td>\n",
       "      <td>65-74 years</td>\n",
       "      <td>Male</td>\n",
       "      <td>FL resident</td>\n",
       "      <td>Unknown</td>\n",
       "      <td>NA</td>\n",
       "      <td>UNKNOWN</td>\n",
       "      <td>UNKNOWN</td>\n",
       "      <td>NA</td>\n",
       "      <td>Yes</td>\n",
       "      <td>NA</td>\n",
       "      <td>1596258000000</td>\n",
       "      <td>1596309162000</td>\n",
       "      <td>1596258000000</td>\n",
       "      <td>604654</td>\n",
       "    </tr>\n",
       "    <tr>\n",
       "      <th>36299</th>\n",
       "      <td>Duval</td>\n",
       "      <td>21</td>\n",
       "      <td>15-24 years</td>\n",
       "      <td>Male</td>\n",
       "      <td>FL resident</td>\n",
       "      <td>No</td>\n",
       "      <td>NA</td>\n",
       "      <td>NO</td>\n",
       "      <td>NO</td>\n",
       "      <td>NA</td>\n",
       "      <td>Yes</td>\n",
       "      <td>NO</td>\n",
       "      <td>1596258000000</td>\n",
       "      <td>1596240000000</td>\n",
       "      <td>1596258000000</td>\n",
       "      <td>604655</td>\n",
       "    </tr>\n",
       "    <tr>\n",
       "      <th>36300</th>\n",
       "      <td>Duval</td>\n",
       "      <td>24</td>\n",
       "      <td>15-24 years</td>\n",
       "      <td>Male</td>\n",
       "      <td>FL resident</td>\n",
       "      <td>No</td>\n",
       "      <td>NA</td>\n",
       "      <td>NO</td>\n",
       "      <td>NO</td>\n",
       "      <td>NA</td>\n",
       "      <td>Yes</td>\n",
       "      <td>YES</td>\n",
       "      <td>1594962000000</td>\n",
       "      <td>1594942328000</td>\n",
       "      <td>1594962000000</td>\n",
       "      <td>604745</td>\n",
       "    </tr>\n",
       "    <tr>\n",
       "      <th>36301</th>\n",
       "      <td>Duval</td>\n",
       "      <td>65</td>\n",
       "      <td>65-74 years</td>\n",
       "      <td>Female</td>\n",
       "      <td>FL resident</td>\n",
       "      <td>Unknown</td>\n",
       "      <td>NA</td>\n",
       "      <td>UNKNOWN</td>\n",
       "      <td>UNKNOWN</td>\n",
       "      <td>NA</td>\n",
       "      <td>Yes</td>\n",
       "      <td>NA</td>\n",
       "      <td>1594875600000</td>\n",
       "      <td>1594920733000</td>\n",
       "      <td>1594875600000</td>\n",
       "      <td>604757</td>\n",
       "    </tr>\n",
       "    <tr>\n",
       "      <th>36302</th>\n",
       "      <td>Clay</td>\n",
       "      <td>56</td>\n",
       "      <td>55-64 years</td>\n",
       "      <td>Female</td>\n",
       "      <td>FL resident</td>\n",
       "      <td>Unknown</td>\n",
       "      <td>NA</td>\n",
       "      <td>NO</td>\n",
       "      <td>NO</td>\n",
       "      <td>NA</td>\n",
       "      <td>Yes</td>\n",
       "      <td>NO</td>\n",
       "      <td>1594875600000</td>\n",
       "      <td>1594771200000</td>\n",
       "      <td>1594875600000</td>\n",
       "      <td>604759</td>\n",
       "    </tr>\n",
       "  </tbody>\n",
       "</table>\n",
       "</div>"
      ],
      "text/plain": [
       "      County Age    Age_group  Gender Jurisdiction Travel_related Origin  \\\n",
       "36298  Duval  66  65-74 years    Male  FL resident        Unknown     NA   \n",
       "36299  Duval  21  15-24 years    Male  FL resident             No     NA   \n",
       "36300  Duval  24  15-24 years    Male  FL resident             No     NA   \n",
       "36301  Duval  65  65-74 years  Female  FL resident        Unknown     NA   \n",
       "36302   Clay  56  55-64 years  Female  FL resident        Unknown     NA   \n",
       "\n",
       "       EDvisit Hospitalized Died Case_ Contact          Case1      EventDate  \\\n",
       "36298  UNKNOWN      UNKNOWN   NA   Yes      NA  1596258000000  1596309162000   \n",
       "36299       NO           NO   NA   Yes      NO  1596258000000  1596240000000   \n",
       "36300       NO           NO   NA   Yes     YES  1594962000000  1594942328000   \n",
       "36301  UNKNOWN      UNKNOWN   NA   Yes      NA  1594875600000  1594920733000   \n",
       "36302       NO           NO   NA   Yes      NO  1594875600000  1594771200000   \n",
       "\n",
       "           ChartDate  ObjectId  \n",
       "36298  1596258000000    604654  \n",
       "36299  1596258000000    604655  \n",
       "36300  1594962000000    604745  \n",
       "36301  1594875600000    604757  \n",
       "36302  1594875600000    604759  "
      ]
     },
     "execution_count": 5,
     "metadata": {},
     "output_type": "execute_result"
    }
   ],
   "source": [
    "df.tail()"
   ]
  },
  {
   "cell_type": "code",
   "execution_count": 6,
   "metadata": {},
   "outputs": [
    {
     "data": {
      "text/html": [
       "<div>\n",
       "<style scoped>\n",
       "    .dataframe tbody tr th:only-of-type {\n",
       "        vertical-align: middle;\n",
       "    }\n",
       "\n",
       "    .dataframe tbody tr th {\n",
       "        vertical-align: top;\n",
       "    }\n",
       "\n",
       "    .dataframe thead th {\n",
       "        text-align: right;\n",
       "    }\n",
       "</style>\n",
       "<table border=\"1\" class=\"dataframe\">\n",
       "  <thead>\n",
       "    <tr style=\"text-align: right;\">\n",
       "      <th></th>\n",
       "      <th>County</th>\n",
       "      <th>Age</th>\n",
       "      <th>Age_group</th>\n",
       "      <th>Gender</th>\n",
       "      <th>Jurisdiction</th>\n",
       "      <th>Travel_related</th>\n",
       "      <th>Origin</th>\n",
       "      <th>EDvisit</th>\n",
       "      <th>Hospitalized</th>\n",
       "      <th>Died</th>\n",
       "      <th>Case_</th>\n",
       "      <th>Contact</th>\n",
       "      <th>Case1</th>\n",
       "      <th>ChartDate</th>\n",
       "      <th>ObjectId</th>\n",
       "    </tr>\n",
       "    <tr>\n",
       "      <th>EventDate</th>\n",
       "      <th></th>\n",
       "      <th></th>\n",
       "      <th></th>\n",
       "      <th></th>\n",
       "      <th></th>\n",
       "      <th></th>\n",
       "      <th></th>\n",
       "      <th></th>\n",
       "      <th></th>\n",
       "      <th></th>\n",
       "      <th></th>\n",
       "      <th></th>\n",
       "      <th></th>\n",
       "      <th></th>\n",
       "      <th></th>\n",
       "    </tr>\n",
       "  </thead>\n",
       "  <tbody>\n",
       "    <tr>\n",
       "      <th>2020-07-17 21:24:27</th>\n",
       "      <td>Duval</td>\n",
       "      <td>39.0</td>\n",
       "      <td>35-44 years</td>\n",
       "      <td>Female</td>\n",
       "      <td>FL resident</td>\n",
       "      <td>NaN</td>\n",
       "      <td>NaN</td>\n",
       "      <td>NaN</td>\n",
       "      <td>NaN</td>\n",
       "      <td>NaN</td>\n",
       "      <td>Yes</td>\n",
       "      <td>NaN</td>\n",
       "      <td>1594962000000</td>\n",
       "      <td>1594962000000</td>\n",
       "      <td>9</td>\n",
       "    </tr>\n",
       "    <tr>\n",
       "      <th>2020-07-17 21:24:29</th>\n",
       "      <td>Duval</td>\n",
       "      <td>11.0</td>\n",
       "      <td>5-14 years</td>\n",
       "      <td>Female</td>\n",
       "      <td>FL resident</td>\n",
       "      <td>NaN</td>\n",
       "      <td>NaN</td>\n",
       "      <td>NaN</td>\n",
       "      <td>NaN</td>\n",
       "      <td>NaN</td>\n",
       "      <td>Yes</td>\n",
       "      <td>NaN</td>\n",
       "      <td>1594962000000</td>\n",
       "      <td>1594962000000</td>\n",
       "      <td>10</td>\n",
       "    </tr>\n",
       "    <tr>\n",
       "      <th>2020-05-01 00:00:00</th>\n",
       "      <td>Duval</td>\n",
       "      <td>41.0</td>\n",
       "      <td>35-44 years</td>\n",
       "      <td>Female</td>\n",
       "      <td>FL resident</td>\n",
       "      <td>No</td>\n",
       "      <td>NaN</td>\n",
       "      <td>NaN</td>\n",
       "      <td>NaN</td>\n",
       "      <td>NaN</td>\n",
       "      <td>Yes</td>\n",
       "      <td>YES</td>\n",
       "      <td>1588395600000</td>\n",
       "      <td>1588395600000</td>\n",
       "      <td>40</td>\n",
       "    </tr>\n",
       "    <tr>\n",
       "      <th>2020-07-28 13:29:50</th>\n",
       "      <td>Duval</td>\n",
       "      <td>57.0</td>\n",
       "      <td>55-64 years</td>\n",
       "      <td>Male</td>\n",
       "      <td>FL resident</td>\n",
       "      <td>NaN</td>\n",
       "      <td>NaN</td>\n",
       "      <td>NaN</td>\n",
       "      <td>NaN</td>\n",
       "      <td>NaN</td>\n",
       "      <td>Yes</td>\n",
       "      <td>NaN</td>\n",
       "      <td>1595912400000</td>\n",
       "      <td>1595912400000</td>\n",
       "      <td>55</td>\n",
       "    </tr>\n",
       "    <tr>\n",
       "      <th>2020-06-24 00:00:00</th>\n",
       "      <td>Duval</td>\n",
       "      <td>29.0</td>\n",
       "      <td>25-34 years</td>\n",
       "      <td>Male</td>\n",
       "      <td>FL resident</td>\n",
       "      <td>No</td>\n",
       "      <td>NaN</td>\n",
       "      <td>NO</td>\n",
       "      <td>NO</td>\n",
       "      <td>NaN</td>\n",
       "      <td>Yes</td>\n",
       "      <td>NO</td>\n",
       "      <td>1593579600000</td>\n",
       "      <td>1593579600000</td>\n",
       "      <td>72</td>\n",
       "    </tr>\n",
       "  </tbody>\n",
       "</table>\n",
       "</div>"
      ],
      "text/plain": [
       "                    County   Age    Age_group  Gender Jurisdiction  \\\n",
       "EventDate                                                            \n",
       "2020-07-17 21:24:27  Duval  39.0  35-44 years  Female  FL resident   \n",
       "2020-07-17 21:24:29  Duval  11.0   5-14 years  Female  FL resident   \n",
       "2020-05-01 00:00:00  Duval  41.0  35-44 years  Female  FL resident   \n",
       "2020-07-28 13:29:50  Duval  57.0  55-64 years    Male  FL resident   \n",
       "2020-06-24 00:00:00  Duval  29.0  25-34 years    Male  FL resident   \n",
       "\n",
       "                    Travel_related Origin EDvisit Hospitalized Died Case_  \\\n",
       "EventDate                                                                   \n",
       "2020-07-17 21:24:27            NaN    NaN     NaN          NaN  NaN   Yes   \n",
       "2020-07-17 21:24:29            NaN    NaN     NaN          NaN  NaN   Yes   \n",
       "2020-05-01 00:00:00             No    NaN     NaN          NaN  NaN   Yes   \n",
       "2020-07-28 13:29:50            NaN    NaN     NaN          NaN  NaN   Yes   \n",
       "2020-06-24 00:00:00             No    NaN      NO           NO  NaN   Yes   \n",
       "\n",
       "                    Contact          Case1      ChartDate  ObjectId  \n",
       "EventDate                                                            \n",
       "2020-07-17 21:24:27     NaN  1594962000000  1594962000000         9  \n",
       "2020-07-17 21:24:29     NaN  1594962000000  1594962000000        10  \n",
       "2020-05-01 00:00:00     YES  1588395600000  1588395600000        40  \n",
       "2020-07-28 13:29:50     NaN  1595912400000  1595912400000        55  \n",
       "2020-06-24 00:00:00      NO  1593579600000  1593579600000        72  "
      ]
     },
     "execution_count": 6,
     "metadata": {},
     "output_type": "execute_result"
    }
   ],
   "source": [
    "df.to_csv('FirstCoastCovidCases.csv')\n",
    "covid = pd.read_csv('FirstCoastCovidCases.csv', \n",
    "                   na_values={'Age':'NA', 'Age_group':'Unknown', 'Gender':'Unknown', 'Travel_related':'Unknown',\n",
    "                             'Origin':'NA', 'EDvisit':['UNKNOWN','NA',None],'Hospitalized':['UNKNOWN','NA',None], \n",
    "                             'Died':'NA', 'Contact':['NA','UNKNOWN']}).drop(columns=['Unnamed: 0'])\n",
    "dates = pd.to_datetime(covid['EventDate'], unit='ms')\n",
    "covid['EventDate'] = dates\n",
    "covid.set_index('EventDate', inplace=True)\n",
    "covid.head()"
   ]
  },
  {
   "cell_type": "code",
   "execution_count": 7,
   "metadata": {},
   "outputs": [
    {
     "data": {
      "image/png": "[encoded data removed]",
      "text/plain": [
       "<Figure size 432x288 with 1 Axes>"
      ]
     },
     "metadata": {
      "needs_background": "light"
     },
     "output_type": "display_data"
    }
   ],
   "source": [
    "duval = covid.loc[covid['County']=='Duval']\n",
    "duval_deaths = duval['Died'].resample('M').count()\n",
    "duval_deaths.plot(title='Duval County Covid Deaths')\n",
    "plt.show()"
   ]
  },
  {
   "cell_type": "code",
   "execution_count": 8,
   "metadata": {},
   "outputs": [
    {
     "data": {
      "image/png": "[encoded data removed]",
      "text/plain": [
       "<Figure size 432x288 with 1 Axes>"
      ]
     },
     "metadata": {
      "needs_background": "light"
     },
     "output_type": "display_data"
    }
   ],
   "source": [
    "duval_cases = duval['County'].resample('M').count()\n",
    "duval_cases.plot(title='Duval County Covid Cases')\n",
    "plt.show()"
   ]
  },
  {
   "cell_type": "code",
   "execution_count": 9,
   "metadata": {},
   "outputs": [
    {
     "data": {
      "image/png": "[encoded data removed]",
      "text/plain": [
       "<Figure size 432x288 with 1 Axes>"
      ]
     },
     "metadata": {
      "needs_background": "light"
     },
     "output_type": "display_data"
    }
   ],
   "source": [
    "duval_hospitalizations = duval.loc[duval['Hospitalized']=='YES']\n",
    "duval_hospitalizations = duval_hospitalizations['Hospitalized'].resample('M').count()\n",
    "duval_hospitalizations.plot(title='Duval County Covid Hospitalizations')\n",
    "plt.show()"
   ]
  }
 ],
 "metadata": {
  "kernelspec": {
   "display_name": "Python 3",
   "language": "python",
   "name": "python3"
  },
  "language_info": {
   "codemirror_mode": {
    "name": "ipython",
    "version": 3
   },
   "file_extension": ".py",
   "mimetype": "text/x-python",
   "name": "python",
   "nbconvert_exporter": "python",
   "pygments_lexer": "ipython3",
   "version": "3.8.3"
  }
 },
 "nbformat": 4,
 "nbformat_minor": 4
}
